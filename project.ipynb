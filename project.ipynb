{
 "cells": [
  {
   "cell_type": "markdown",
   "id": "4a4aadd0",
   "metadata": {},
   "source": [
    "## Setup"
   ]
  },
  {
   "cell_type": "code",
   "execution_count": null,
   "id": "6e3f0e6a",
   "metadata": {},
   "outputs": [],
   "source": [
    "# install dependencies\n",
    "import pandas as pd\n",
    "import statsmodels.api as sm\n",
    "import matplotlib.pyplot as plt\n",
    "import numpy as np"
   ]
  },
  {
   "cell_type": "code",
   "execution_count": null,
   "id": "04dbc1db",
   "metadata": {},
   "outputs": [],
   "source": [
    "# variables\n",
    "KURTOSIS_WINDOW = \"1825D\"\n",
    "DATA_FILE = 'crsp.csv'\n",
    "FAMA_FRENCH_FACTORS = 'F-F_Research_Data_Factors.csv'"
   ]
  },
  {
   "cell_type": "code",
   "execution_count": null,
   "id": "630a502e",
   "metadata": {},
   "outputs": [],
   "source": [
    "# preprocessing\n",
    "\n",
    "src = pd.read_csv(DATA_FILE)\n",
    "\n",
    "src = src[['permno', 'comnam', 'date', 'prc', 'ret', 'dlret']]\n",
    "\n",
    "src['ret'] = pd.to_numeric(src['ret'], errors='coerce')\n",
    "src['date'] = pd.to_datetime(src['date'], format='%Y%m%d')"
   ]
  },
  {
   "cell_type": "markdown",
   "id": "bc077ec9",
   "metadata": {},
   "source": [
    "## Experiment"
   ]
  },
  {
   "cell_type": "code",
   "execution_count": null,
   "id": "858c3a08",
   "metadata": {},
   "outputs": [],
   "source": [
    "def calculate_kurtosis(frame: pd.DataFrame):\n",
    "    frame = frame.copy()  \n",
    "    frame['kurtosis'] = None \n",
    "\n",
    "    for _, group in frame.groupby('permno'):\n",
    "        k = group.set_index('date')['ret'].rolling(window=KURTOSIS_WINDOW).kurt()\n",
    "        frame.loc[group.index, 'kurtosis'] = k.values\n",
    "\n",
    "    return frame.dropna(subset=['kurtosis'])"
   ]
  },
  {
   "cell_type": "code",
   "execution_count": null,
   "id": "80cb9cb5",
   "metadata": {},
   "outputs": [],
   "source": [
    "# calculate kurtosis\n",
    "df = calculate_kurtosis(src)"
   ]
  },
  {
   "cell_type": "code",
   "execution_count": null,
   "id": "e0d4dce9",
   "metadata": {},
   "outputs": [],
   "source": [
    "# Extract unique months\n",
    "df['month_year'] = df['date'].dt.to_period('M')\n",
    "df = df[df['month_year'] >= pd.Period('1926-07', freq='M')]\n",
    "months = df['month_year'].unique()"
   ]
  },
  {
   "cell_type": "markdown",
   "id": "e2774c73",
   "metadata": {},
   "source": [
    "##### Plotted curtosis of 15 stocks (1990-2025)"
   ]
  },
  {
   "cell_type": "code",
   "execution_count": null,
   "id": "46cbbc33",
   "metadata": {},
   "outputs": [],
   "source": [
    "def plot_kurtosis_over_time_limited_filtered(data, limit=15):\n",
    "    plt.figure(figsize=(12, 5))  \n",
    "    filtered_data = data[(data['date'] >= '1990-01-01') & (data['date'] <= '2025-12-31')]\n",
    "    for permno, group in filtered_data.groupby('permno'):\n",
    "        plt.plot(group['date'], group['kurtosis'], label=f'Permno {permno}')\n",
    "        limit -= 1\n",
    "        if limit == 0:\n",
    "            break\n",
    "    plt.xlabel('Date')\n",
    "    plt.ylabel('Kurtosis')\n",
    "    plt.title('Kurtosis Over Time for Limited Permno')\n",
    "    plt.legend(loc='upper right', fontsize='small', ncol=2)\n",
    "    plt.show()\n",
    "\n",
    "# Plot kurtosis \n",
    "plot_kurtosis_over_time_limited_filtered(df)"
   ]
  },
  {
   "cell_type": "code",
   "execution_count": null,
   "id": "88b8fa88",
   "metadata": {},
   "outputs": [],
   "source": [
    "# autocorrelation of kurtosis"
   ]
  },
  {
   "cell_type": "markdown",
   "id": "b2f05ef5",
   "metadata": {},
   "source": [
    "##### Mean return of each quantile (all-time)"
   ]
  },
  {
   "cell_type": "code",
   "execution_count": null,
   "id": "e07b24cd",
   "metadata": {},
   "outputs": [],
   "source": [
    "def assign_quantiles(data: pd.DataFrame, field):\n",
    "    sorted_df = data.sort_values(by=field)\n",
    "    sorted_df['quantile'] = pd.qcut(sorted_df[field], q=10, labels=False)\n",
    "    return sorted_df"
   ]
  },
  {
   "cell_type": "code",
   "execution_count": null,
   "id": "e2a29430",
   "metadata": {},
   "outputs": [],
   "source": [
    "# measure mean return and mean kurtosis of quantiles through time \n",
    "\n",
    "quantile_means = []\n",
    "quantile_kurtosis = []\n",
    "\n",
    "for i in range(10):\n",
    "    mean_returns = []\n",
    "    mean_kurtosis = []\n",
    "\n",
    "    # Iterate over unique months\n",
    "    for month in months:\n",
    "        month_data = df[df['month_year'] == month]\n",
    "        quantiles = assign_quantiles(month_data, \"kurtosis\")\n",
    "\n",
    "        mean_returns.append(quantiles[quantiles['quantile'] == i]['ret'].mean())\n",
    "        mean_kurtosis.append(quantiles[quantiles['quantile'] == i]['kurtosis'].mean())\n",
    "\n",
    "    quantile_means.append(pd.Series(mean_returns).mean())\n",
    "    quantile_kurtosis.append(pd.Series(mean_kurtosis).mean())\n",
    "\n",
    "# create table \n",
    "data = [[f\"Q{i+1}\", f\"{quantile_means[i]:.4f}\", f\"{quantile_kurtosis[i]:.4f}\"] for i in range(10)]\n",
    "\n",
    "fig, ax = plt.subplots(figsize=(8, 6))\n",
    "ax.axis('tight')\n",
    "ax.axis('off')\n",
    "\n",
    "table = ax.table(\n",
    "    cellText=data,\n",
    "    colLabels=[\"Quantile\", \"Mean Return (All Time)\", \"Mean Kurtosis (All Time)\"],\n",
    "    loc=\"center\",\n",
    "    cellLoc=\"center\"\n",
    ")\n",
    "\n",
    "table.auto_set_font_size(False)\n",
    "table.set_fontsize(10)\n",
    "table.auto_set_column_width(col=list(range(len(data[0]))))\n",
    "\n",
    "plt.title(\"Quantile Statistics Table\", fontsize=14)\n",
    "plt.show()"
   ]
  },
  {
   "cell_type": "markdown",
   "id": "0c81423c",
   "metadata": {},
   "source": [
    "Appears that quantiles with higher curtosis, when viewed as portfolios, perform better than quantiles with lower curtosis."
   ]
  },
  {
   "cell_type": "markdown",
   "id": "ec0f1135",
   "metadata": {},
   "source": [
    "#### Portfolio generation "
   ]
  },
  {
   "cell_type": "code",
   "execution_count": null,
   "id": "0894f537",
   "metadata": {},
   "outputs": [],
   "source": [
    "# creating portfolios for next month\n",
    "def create_portfolio(data: pd.DataFrame, long: list, short: list):\n",
    "    quantiles = assign_quantiles(data, \"kurtosis\")\n",
    "\n",
    "    portfolio = pd.concat(quantiles[quantiles['quantile'] == q] for q in (long + short))\n",
    "    portfolio = portfolio[['permno', 'comnam', 'date']]\n",
    "\n",
    "    return portfolio \n",
    "\n",
    "# get return in next month\n",
    "def get_return(portfolio: pd.DataFrame, next_month: pd.DataFrame):\n",
    "    portfolio = pd.merge(portfolio, next_month[['permno', 'ret', 'dlret']], on='permno', how='left')\n",
    "\n",
    "    portfolio['ret'] = pd.to_numeric(portfolio['ret'], errors='coerce')\n",
    "    portfolio['next_month_return'] = portfolio['ret'].fillna(portfolio['dlret'])\n",
    "\n",
    "    return portfolio['next_month_return'].mean()"
   ]
  },
  {
   "cell_type": "code",
   "execution_count": null,
   "id": "44eeb24a",
   "metadata": {},
   "outputs": [],
   "source": [
    "# Generate time series for port_small and port_large\n",
    "portfolio_small_returns = []\n",
    "portfolio_large_returns = []\n",
    "quantile_returns = {q: [] for q in range(10)}\n",
    "\n",
    "for month in months[:-1]:\n",
    "    next_month = month + 1\n",
    "\n",
    "    month_data = df[df['month_year'] == month].copy()\n",
    "    next_month_data = df[df['month_year'] == next_month].copy()\n",
    "\n",
    "    month_data = assign_quantiles(month_data, \"kurtosis\")\n",
    "\n",
    "    portfolio_small = create_portfolio(month_data, [9], [0])\n",
    "    portfolio_large = create_portfolio(month_data, [9, 8], [0, 1])\n",
    "\n",
    "    # get quantile and portfolio returns\n",
    "    for q in range(10):\n",
    "        quantile_data = month_data[month_data['quantile'] == q]\n",
    "        quantile_returns[q].append(\n",
    "            (month, get_return(quantile_data[['permno', 'comnam', 'date']], next_month_data))\n",
    "        )\n",
    "\n",
    "    portfolio_small_returns.append((month, get_return(portfolio_small, next_month_data)))\n",
    "    portfolio_large_returns.append((month, get_return(portfolio_large, next_month_data)))\n",
    "\n",
    "# Create time series\n",
    "port_small_series = pd.Series(\n",
    "    dict(portfolio_small_returns)\n",
    ").sort_index()\n",
    "\n",
    "port_large_series = pd.Series(\n",
    "    dict(portfolio_large_returns)\n",
    ").sort_index()\n",
    "\n",
    "quantile_series = {\n",
    "    q: pd.Series(dict(returns)).sort_index() for q, returns in quantile_returns.items()\n",
    "}\n"
   ]
  },
  {
   "cell_type": "code",
   "execution_count": null,
   "id": "43d1ac2e",
   "metadata": {},
   "outputs": [],
   "source": [
    "# Plot portfolio returns\n",
    "plt.figure(figsize=(12, 6))\n",
    "plt.plot(port_small_series.index.to_timestamp(), port_small_series.values, label=\"Portfolio Small (Q10 - Q1)\", color=\"blue\")\n",
    "plt.plot(port_large_series.index.to_timestamp(), port_large_series.values, label=\"Portfolio Large (Q10, Q9 - Q1, Q2)\", color=\"green\")\n",
    "plt.xlabel(\"Date\")\n",
    "plt.ylabel(\"Return\")\n",
    "plt.title(\"Portfolio Returns Over Time\")\n",
    "plt.legend()\n",
    "plt.grid()\n",
    "plt.show()\n",
    "\n",
    "# Plot quantile returns_\n",
    "plt.figure(figsize=(12, 6))\n",
    "for q, series in quantile_series.items():\n",
    "    plt.plot(series.index.to_timestamp(), series.values, label=f\"Quantile {q+1}\")\n",
    "plt.xlabel(\"Date\")\n",
    "plt.ylabel(\"Return\")\n",
    "plt.title(\"Quantile Returns Over Time\")\n",
    "plt.legend(loc=\"upper left\", fontsize=\"small\", ncol=2)\n",
    "plt.grid()\n",
    "plt.show()"
   ]
  },
  {
   "cell_type": "code",
   "execution_count": null,
   "id": "15dc201e",
   "metadata": {},
   "outputs": [],
   "source": [
    "# plot mean return for each quantile and portfolio\n",
    "mean_port_small = port_small_series.mean()\n",
    "mean_port_large = port_large_series.mean()\n",
    "mean_quantiles = {q: series.mean() for q, series in quantile_series.items()}\n",
    "\n",
    "labels = [\"Portfolio Small\", \"Portfolio Large\"] + [f\"Quantile {q+1}\" for q in range(10)]\n",
    "means = [mean_port_small, mean_port_large] + [mean_quantiles[q] for q in range(10)]\n",
    "\n",
    "# Create bar chart\n",
    "plt.figure(figsize=(12, 6))\n",
    "plt.bar(labels, means, color=[\"blue\", \"green\"] + [\"orange\"] * 10)\n",
    "plt.xlabel(\"Category\")\n",
    "plt.ylabel(\"Mean Return\")\n",
    "plt.title(\"Mean Returns for Portfolios and Quantiles\")\n",
    "plt.xticks(rotation=45, ha=\"right\")\n",
    "plt.grid(axis=\"y\", linestyle=\"--\", alpha=0.7)\n",
    "plt.show()"
   ]
  },
  {
   "cell_type": "markdown",
   "id": "79dc6960",
   "metadata": {},
   "source": [
    "#### Portfolio evaluation"
   ]
  },
  {
   "cell_type": "code",
   "execution_count": null,
   "id": "5d96ca55",
   "metadata": {},
   "outputs": [],
   "source": [
    "# load fama french factors\n",
    "ff_factors = pd.read_csv(FAMA_FRENCH_FACTORS)\n",
    "\n",
    "ff_factors['month_year'] = pd.to_datetime(ff_factors['Date'], format='%Y%m').dt.to_period('M')\n",
    "ff_factors = ff_factors[['month_year', 'MKT_RF', 'SMB', 'HML', 'RF']]\n",
    "\n",
    "# Adjust scale of factors\n",
    "ff_factors['MKT_RF'] = ff_factors['MKT_RF'] / 100\n",
    "ff_factors['SMB'] = ff_factors['SMB'] / 100\n",
    "ff_factors['HML'] = ff_factors['HML'] / 100\n",
    "ff_factors['RF'] = ff_factors['RF'] / 100"
   ]
  },
  {
   "cell_type": "code",
   "execution_count": null,
   "id": "ef177c43",
   "metadata": {},
   "outputs": [],
   "source": [
    "def print_alpha(model, desc):\n",
    "    print(f\"{desc} - Alpha: {model.params['const']:.4f}, t-stat: {model.tvalues['const']:.4f}\")\n",
    "\n",
    "# define famma french\n",
    "def fama_french(data: pd.Series, factors):\n",
    "    # Load Fama-French factors\n",
    "    data = data.reset_index()  \n",
    "    data.columns = ['month_year', 'ret']  \n",
    "\n",
    "    # match date with factors\n",
    "    factors = factors[factors['month_year'].isin(data['month_year'])]\n",
    "    regression_in = pd.merge(data, factors, on='month_year', how='left')\n",
    "\n",
    "    # Compute excess return\n",
    "    regression_in['excess_return'] = regression_in['ret'] - regression_in['RF']\n",
    "\n",
    "    # Prepare regression variables\n",
    "    X = regression_in[['MKT_RF', 'SMB', 'HML']]\n",
    "    X = X.apply(pd.to_numeric, errors='raise')\n",
    "    X = sm.add_constant(X, has_constant='add')\n",
    "\n",
    "    y = pd.to_numeric(regression_in['excess_return'], errors='raise')\n",
    "    regression_in['excess_return'] = regression_in['ret'] - regression_in['RF']\n",
    "\n",
    "    # Run regression\n",
    "    model = sm.OLS(y, X).fit()\n",
    "    return model"
   ]
  },
  {
   "cell_type": "code",
   "execution_count": null,
   "id": "025eeab3",
   "metadata": {},
   "outputs": [],
   "source": [
    "\n",
    "# find alphas for portfolios\n",
    "portfolio_small_model = fama_french(port_small_series, ff_factors)\n",
    "portfolio_large_model = fama_french(port_large_series, ff_factors)\n",
    "\n",
    "print_alpha(portfolio_small_model, f\"Portfolio small (long Q10, short Q1)\")\n",
    "print_alpha(portfolio_large_model, f\"Portfolio large (long Q10, Q9, short Q1, Q2)\")\n",
    "\n",
    "portfolio_alphas = [portfolio_small_model.params['const'], portfolio_large_model.params['const']]\n",
    "quantile_alphas = []\n",
    "\n",
    "portfolio_tvalues = [\n",
    "    portfolio_small_model.tvalues['const'],\n",
    "    portfolio_large_model.tvalues['const']\n",
    "]\n",
    "quantile_tvalues = []\n",
    "\n",
    "# find alphas for quantiles\n",
    "for q in range(10):\n",
    "    model = fama_french(quantile_series[q], ff_factors)\n",
    "    quantile_alphas.append(model.params['const'])\n",
    "    quantile_tvalues.append(model.tvalues['const'])\n",
    "    print_alpha(model, f\"Quantile {q+1}\")"
   ]
  },
  {
   "cell_type": "code",
   "execution_count": null,
   "id": "ac29e4dc",
   "metadata": {},
   "outputs": [],
   "source": [
    "# create charts \n",
    "labels = [\"Portfolio Small\", \"Portfolio Large\"] + [f\"Quantile {q+1}\" for q in range(10)]\n",
    "alphas = portfolio_alphas + quantile_alphas\n",
    "tvalues = portfolio_tvalues + quantile_tvalues\n",
    "\n",
    "plt.figure(figsize=(12, 6))\n",
    "bars = plt.bar(labels, alphas, color=[\"brown\", \"purple\"] + [\"darkblue\"] * 10)\n",
    "\n",
    "for bar, alpha, tvalue in zip(bars, alphas, tvalues):\n",
    "    plt.text(\n",
    "        bar.get_x() + bar.get_width() / 2,\n",
    "        bar.get_height(),\n",
    "        f\"t={tvalue:.2f}\",\n",
    "        ha=\"center\",\n",
    "        va=\"bottom\",\n",
    "        fontsize=10\n",
    "    )\n",
    "\n",
    "plt.xlabel(\"Category\")\n",
    "plt.ylabel(\"Alpha\")\n",
    "plt.title(\"Alphas and t-values for Portfolios and Quantiles\")\n",
    "plt.xticks(rotation=45, ha=\"right\")\n",
    "plt.grid(axis=\"y\", linestyle=\"--\", alpha=0.7)\n",
    "plt.show()"
   ]
  },
  {
   "cell_type": "code",
   "execution_count": null,
   "id": "88d398b9",
   "metadata": {},
   "outputs": [],
   "source": [
    "# define sharpe ratio\n",
    "def sharpe_ratio(data: pd.Series, factors):\n",
    "    data = data.reset_index()  \n",
    "    data.columns = ['month_year', 'ret']  \n",
    "\n",
    "    # match date with factors\n",
    "    factors = factors[factors['month_year'].isin(data['month_year'])]\n",
    "    returns_in = pd.merge(data, factors, on='month_year', how='left')\n",
    "\n",
    "    # Compute excess return\n",
    "    returns_in['excess_return'] = returns_in['ret'] - returns_in['RF']\n",
    "\n",
    "    # return sharpe ratio\n",
    "    return returns_in['excess_return'].mean() / returns_in['excess_return'].std() * np.sqrt(12)"
   ]
  },
  {
   "cell_type": "code",
   "execution_count": null,
   "id": "6479e529",
   "metadata": {},
   "outputs": [],
   "source": [
    "# calculate sharpe ratio for portfolios and quantiles\n",
    "portfolio_small_sharpe = sharpe_ratio(port_small_series, ff_factors)\n",
    "portfolio_large_sharpe = sharpe_ratio(port_large_series, ff_factors)\n",
    "quantile_sharpe = [sharpe_ratio(quantile_series[q], ff_factors) for q in range(10)]\n",
    "\n",
    "# create bar chart for sharpe ratio\n",
    "labels = [\"Portfolio Small\", \"Portfolio Large\"] + [f\"Quantile {q+1}\" for q in range(10)]\n",
    "sharpe_values = [portfolio_small_sharpe, portfolio_large_sharpe] + quantile_sharpe   \n",
    "plt.figure(figsize=(12, 6))\n",
    "bars = plt.bar(labels, sharpe_values, color=[\"orange\", \"purple\"] + [\"brown\"] * 10)\n",
    "for bar, tvalue in zip(bars, sharpe_values):\n",
    "    plt.text(\n",
    "        bar.get_x() + bar.get_width() / 2,\n",
    "        bar.get_height(),\n",
    "        f\"{tvalue:.2f}\",\n",
    "        ha=\"center\",\n",
    "        va=\"bottom\",\n",
    "        fontsize=10\n",
    "    )\n",
    "plt.xlabel(\"Category\")\n",
    "plt.ylabel(\"Sharpe Ratio (Annualized)\")\n",
    "plt.title(\"Sharpe Ratios for Portfolios and Quantiles (Annualized)\")\n",
    "plt.xticks(rotation=45, ha=\"right\")\n",
    "plt.grid(axis=\"y\", linestyle=\"--\", alpha=0.7)\n",
    "plt.show()"
   ]
  },
  {
   "cell_type": "markdown",
   "id": "b57b847a",
   "metadata": {},
   "source": [
    "##### Misc"
   ]
  },
  {
   "cell_type": "code",
   "execution_count": null,
   "id": "e6237d80",
   "metadata": {},
   "outputs": [],
   "source": [
    "# generate portfolio for next month (from now)\n",
    "month = months[-1]\n",
    "month_data = df[df['month_year'] == month]\n",
    "\n",
    "portfolio_small = create_portfolio(month_data, [9], [0])\n",
    "portfolio_large = create_portfolio(month_data, [9,8], [0,1])\n",
    "\n",
    "print(\"Portfolio Small:\", portfolio_small.head())\n",
    "print(\"Portfolio Large:\", portfolio_large.head())"
   ]
  }
 ],
 "metadata": {
  "kernelspec": {
   "display_name": "venv (3.12.3)",
   "language": "python",
   "name": "python3"
  },
  "language_info": {
   "codemirror_mode": {
    "name": "ipython",
    "version": 3
   },
   "file_extension": ".py",
   "mimetype": "text/x-python",
   "name": "python",
   "nbconvert_exporter": "python",
   "pygments_lexer": "ipython3",
   "version": "3.12.3"
  }
 },
 "nbformat": 4,
 "nbformat_minor": 5
}
