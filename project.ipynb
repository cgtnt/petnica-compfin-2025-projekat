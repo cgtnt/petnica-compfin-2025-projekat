{
 "cells": [
  {
   "cell_type": "markdown",
   "id": "4a4aadd0",
   "metadata": {},
   "source": [
    "## Setup"
   ]
  },
  {
   "cell_type": "code",
   "execution_count": 3,
   "id": "6e3f0e6a",
   "metadata": {},
   "outputs": [],
   "source": [
    "# install dependencies\n",
    "import pandas as pd\n",
    "import statsmodels.api as sm\n",
    "import matplotlib.pyplot as plt"
   ]
  },
  {
   "cell_type": "code",
   "execution_count": 5,
   "id": "04dbc1db",
   "metadata": {},
   "outputs": [],
   "source": [
    "# variables\n",
    "KURTOSIS_WINDOW = \"180D\"\n",
    "DATA_FILE = 'crsp.csv'\n",
    "FAMA_FRENCH_FACTORS = 'F-F_Research_Data_Factors.csv'"
   ]
  },
  {
   "cell_type": "code",
   "execution_count": 6,
   "id": "630a502e",
   "metadata": {},
   "outputs": [
    {
     "name": "stderr",
     "output_type": "stream",
     "text": [
      "/tmp/ipykernel_16978/3467151320.py:3: DtypeWarning: Columns (5,6,7,10,18,38,40) have mixed types. Specify dtype option on import or set low_memory=False.\n",
      "  src = pd.read_csv(DATA_FILE)\n"
     ]
    }
   ],
   "source": [
    "# preprocessing\n",
    "\n",
    "src = pd.read_csv(DATA_FILE)\n",
    "\n",
    "src = src[['permno', 'ticker', 'comnam', 'date', 'prc', 'ret']]\n",
    "\n",
    "src['ret'] = pd.to_numeric(src['ret'], errors='coerce')\n",
    "src = src.dropna(subset=['ret'])\n",
    "\n",
    "src['date'] = pd.to_datetime(src['date'], format='%Y%m%d')"
   ]
  },
  {
   "cell_type": "code",
   "execution_count": null,
   "id": "689037f8",
   "metadata": {},
   "outputs": [],
   "source": [
    "# define functions\n",
    "def calculate_kurtosis(frame: pd.DataFrame):\n",
    "    frame['kurtosis'] = None \n",
    "\n",
    "    for _, group in frame.groupby('permno'):\n",
    "        k = group.set_index('date')['ret'].rolling(window=KURTOSIS_WINDOW).kurt()\n",
    "        frame.loc[group.index, 'kurtosis'] = k.values\n",
    "\n",
    "    return frame.dropna(subset=['kurtosis'])\n",
    "\n",
    "def assign_quantiles(data: pd.DataFrame, field):\n",
    "    sorted_df = data.sort_values(by=field)\n",
    "    sorted_df['quantile'] = pd.qcut(sorted_df[field], q=10, labels=False)\n",
    "    return sorted_df\n",
    "\n",
    "def process_quantiles(data: pd.DataFrame, f):\n",
    "    data = assign_quantiles(data, \"kurtosis\")\n",
    "\n",
    "    for quantile in range(10):\n",
    "        quantile_data = data[data['quantile'] == quantile]\n",
    "        f(quantile_data)\n"
   ]
  },
  {
   "cell_type": "code",
   "execution_count": null,
   "id": "b4073f0e",
   "metadata": {},
   "outputs": [],
   "source": [
    "# creating portfolios"
   ]
  },
  {
   "cell_type": "code",
   "execution_count": null,
   "id": "11b0ae98",
   "metadata": {},
   "outputs": [],
   "source": [
    "# define famma french\n",
    "def fama_french(data: pd.DataFrame):\n",
    "    # Load Fama-French factors\n",
    "    factors = pd.read_csv(FAMA_FRENCH_FACTORS)\n",
    "    factors['Date'] = pd.to_datetime(factors['Date'], format='%Y%m')\n",
    "    \n",
    "    data['month_year'] = data['date'].dt.to_period('M')\n",
    "    factors['month_year'] = factors['Date'].dt.to_period('M')\n",
    "\n",
    "    factors = factors[factors['month_year'].isin(data['month_year'])]\n",
    "\n",
    "    # Keep only necessary columns and ensure consistent naming\n",
    "    factors = factors[['month_year', 'MKT_RF', 'SMB', 'HML', 'RF']]\n",
    "\n",
    "    print(factors.head())\n",
    "    # Adjust scale of factors\n",
    "    factors['MKT_RF'] = factors['MKT_RF'] / 100\n",
    "    factors['SMB'] = factors['SMB'] / 100\n",
    "    factors['HML'] = factors['HML'] / 100\n",
    "    factors['RF'] = factors['RF'] / 100\n",
    "\n",
    "    # Merge Fama-French factors with stock data\n",
    "    regression_in = pd.merge(data, factors, on='month_year', how='left')\n",
    "\n",
    "    # Compute excess return\n",
    "    regression_in['excess_return'] = regression_in['ret'] - regression_in['RF']\n",
    "\n",
    "    # Prepare regression variables\n",
    "    X = regression_in[['MKT_RF', 'SMB', 'HML']]\n",
    "    X = X.apply(pd.to_numeric, errors='raise')\n",
    "    X = sm.add_constant(X, has_constant='add')\n",
    "\n",
    "    y = pd.to_numeric(regression_in['excess_return'], errors='raise')\n",
    "\n",
    "    # Run regression\n",
    "    model = sm.OLS(y, X).fit()\n",
    "    return model"
   ]
  },
  {
   "cell_type": "code",
   "execution_count": null,
   "id": "f169e38c",
   "metadata": {},
   "outputs": [],
   "source": [
    "# portfolio evaluation\n",
    "def rate_portfolio(portfolio: pd.DataFrame):\n",
    "    # ovaj portfolio za mjesec n+1\n",
    "    fama_french(portfolio)"
   ]
  },
  {
   "cell_type": "markdown",
   "id": "bc077ec9",
   "metadata": {},
   "source": [
    "## Analysis"
   ]
  },
  {
   "cell_type": "code",
   "execution_count": null,
   "id": "80cb9cb5",
   "metadata": {},
   "outputs": [],
   "source": [
    "# calculate kurtosis\n",
    "df = calculate_kurtosis(src)"
   ]
  },
  {
   "cell_type": "code",
   "execution_count": null,
   "id": "e0d4dce9",
   "metadata": {},
   "outputs": [],
   "source": [
    "# Extract unique months\n",
    "df['month_year'] = df['date'].dt.to_period('M')\n",
    "df = df[df['month_year'] >= pd.Period('1926-07', freq='M')]\n",
    "months = df['month_year'].unique()\n",
    "\n",
    "# Iterate over unique months\n",
    "for month in months:\n",
    "    month_data = df[df['month_year'] == month]\n",
    "    # process_quantiles(month_data, rate_portfolio)"
   ]
  },
  {
   "cell_type": "code",
   "execution_count": null,
   "id": "46cbbc33",
   "metadata": {},
   "outputs": [],
   "source": [
    "\n",
    "def plot_kurtosis_over_time_limited_filtered(data, limit=20):\n",
    "    plt.figure(figsize=(12, 6))\n",
    "    filtered_data = data[(data['date'] >= '2010-01-01') & (data['date'] <= '2025-12-31')]\n",
    "    for permno, group in filtered_data.groupby('permno'):\n",
    "        plt.plot(group['date'], group['kurtosis'], label=f'Permno {permno}')\n",
    "        limit -= 1\n",
    "        if limit == 0:\n",
    "            break\n",
    "    plt.xlabel('Date')\n",
    "    plt.ylabel('Kurtosis')\n",
    "    plt.title('Kurtosis Over Time for 500 Permno (2010-2025)')\n",
    "    plt.legend(loc='upper right', fontsize='small', ncol=2)\n",
    "    plt.show()\n",
    "\n",
    "# Call the function to plot\n",
    "plot_kurtosis_over_time_limited_filtered(df)"
   ]
  }
 ],
 "metadata": {
  "kernelspec": {
   "display_name": "venv (3.12.3)",
   "language": "python",
   "name": "python3"
  },
  "language_info": {
   "codemirror_mode": {
    "name": "ipython",
    "version": 3
   },
   "file_extension": ".py",
   "mimetype": "text/x-python",
   "name": "python",
   "nbconvert_exporter": "python",
   "pygments_lexer": "ipython3",
   "version": "3.12.3"
  }
 },
 "nbformat": 4,
 "nbformat_minor": 5
}
