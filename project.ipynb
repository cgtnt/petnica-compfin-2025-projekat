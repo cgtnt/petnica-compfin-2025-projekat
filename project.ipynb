{
 "cells": [
  {
   "cell_type": "markdown",
   "id": "4a4aadd0",
   "metadata": {},
   "source": [
    "## Setup"
   ]
  },
  {
   "cell_type": "code",
   "execution_count": null,
   "id": "6e3f0e6a",
   "metadata": {},
   "outputs": [],
   "source": [
    "# install dependencies\n",
    "import pandas as pd\n",
    "import statsmodels.api as sm\n",
    "import matplotlib.pyplot as plt"
   ]
  },
  {
   "cell_type": "code",
   "execution_count": null,
   "id": "04dbc1db",
   "metadata": {},
   "outputs": [],
   "source": [
    "# variables\n",
    "KURTOSIS_WINDOW = \"1825D\"\n",
    "DATA_FILE = 'crsp.csv'\n",
    "FAMA_FRENCH_FACTORS = 'F-F_Research_Data_Factors.csv'"
   ]
  },
  {
   "cell_type": "code",
   "execution_count": null,
   "id": "630a502e",
   "metadata": {},
   "outputs": [],
   "source": [
    "# preprocessing\n",
    "\n",
    "src = pd.read_csv(DATA_FILE)\n",
    "\n",
    "src = src[['permno', 'comnam', 'date', 'prc', 'ret', 'dlret']]\n",
    "\n",
    "src['ret'] = pd.to_numeric(src['ret'], errors='coerce')\n",
    "src['date'] = pd.to_datetime(src['date'], format='%Y%m%d')"
   ]
  },
  {
   "cell_type": "markdown",
   "id": "bc077ec9",
   "metadata": {},
   "source": [
    "## Experiment"
   ]
  },
  {
   "cell_type": "code",
   "execution_count": null,
   "id": "858c3a08",
   "metadata": {},
   "outputs": [],
   "source": [
    "def calculate_kurtosis(frame: pd.DataFrame):\n",
    "    frame['kurtosis'] = None \n",
    "\n",
    "    for _, group in frame.groupby('permno'):\n",
    "        k = group.set_index('date')['ret'].rolling(window=KURTOSIS_WINDOW).kurt()\n",
    "        frame.loc[group.index, 'kurtosis'] = k.values\n",
    "\n",
    "    return frame.dropna(subset=['kurtosis'])"
   ]
  },
  {
   "cell_type": "code",
   "execution_count": null,
   "id": "80cb9cb5",
   "metadata": {},
   "outputs": [],
   "source": [
    "# calculate kurtosis\n",
    "df = calculate_kurtosis(src)"
   ]
  },
  {
   "cell_type": "code",
   "execution_count": null,
   "id": "e0d4dce9",
   "metadata": {},
   "outputs": [],
   "source": [
    "# Extract unique months\n",
    "df['month_year'] = df['date'].dt.to_period('M')\n",
    "df = df[df['month_year'] >= pd.Period('1926-07', freq='M')]\n",
    "months = df['month_year'].unique()"
   ]
  },
  {
   "cell_type": "markdown",
   "id": "e2774c73",
   "metadata": {},
   "source": [
    "##### Plotted curtosis of 15 stocks (1990-2025)"
   ]
  },
  {
   "cell_type": "code",
   "execution_count": null,
   "id": "46cbbc33",
   "metadata": {},
   "outputs": [],
   "source": [
    "def plot_kurtosis_over_time_limited_filtered(data, limit=15):\n",
    "    plt.figure(figsize=(12, 5))  \n",
    "    filtered_data = data[(data['date'] >= '1990-01-01') & (data['date'] <= '2025-12-31')]\n",
    "    for permno, group in filtered_data.groupby('permno'):\n",
    "        plt.plot(group['date'], group['kurtosis'], label=f'Permno {permno}')\n",
    "        limit -= 1\n",
    "        if limit == 0:\n",
    "            break\n",
    "    plt.xlabel('Date')\n",
    "    plt.ylabel('Kurtosis')\n",
    "    plt.title('Kurtosis Over Time for Limited Permno')\n",
    "    plt.legend(loc='upper right', fontsize='small', ncol=2)\n",
    "    plt.show()\n",
    "\n",
    "# Plot kurtosis \n",
    "plot_kurtosis_over_time_limited_filtered(df)"
   ]
  },
  {
   "cell_type": "markdown",
   "id": "b2f05ef5",
   "metadata": {},
   "source": [
    "##### Mean return of each quantile (all-time)"
   ]
  },
  {
   "cell_type": "code",
   "execution_count": null,
   "id": "e07b24cd",
   "metadata": {},
   "outputs": [],
   "source": [
    "def assign_quantiles(data: pd.DataFrame, field):\n",
    "    sorted_df = data.sort_values(by=field)\n",
    "    sorted_df['quantile'] = pd.qcut(sorted_df[field], q=10, labels=False)\n",
    "    return sorted_df"
   ]
  },
  {
   "cell_type": "code",
   "execution_count": null,
   "id": "e2a29430",
   "metadata": {},
   "outputs": [],
   "source": [
    "# measure mean return of quantiles through time \n",
    "\n",
    "for i in range(10):\n",
    "    mean_returns = []\n",
    "\n",
    "    # Iterate over unique months\n",
    "    for month in months:\n",
    "        month_data = df[df['month_year'] == month]\n",
    "        quantiles = assign_quantiles(month_data, \"kurtosis\")\n",
    "        mean_returns.append(quantiles[quantiles['quantile'] == i]['ret'].mean())\n",
    "\n",
    "    print(f\"Mean return (all time) - Q{i+1}: \", pd.Series(mean_returns).mean())"
   ]
  },
  {
   "cell_type": "markdown",
   "id": "0c81423c",
   "metadata": {},
   "source": [
    "Appears that quantiles with higher curtosis, when viewed as portfolios, perform better than quantiles with lower curtosis."
   ]
  },
  {
   "cell_type": "markdown",
   "id": "ec0f1135",
   "metadata": {},
   "source": [
    "#### Portfolio generation "
   ]
  },
  {
   "cell_type": "code",
   "execution_count": null,
   "id": "0894f537",
   "metadata": {},
   "outputs": [],
   "source": [
    "# creating portfolios for next month\n",
    "def create_portfolio(data: pd.DataFrame, long: list, short: list):\n",
    "    quantiles = assign_quantiles(data, \"kurtosis\")\n",
    "\n",
    "    portfolio = pd.concat(quantiles[quantiles['quantile'] == q] for q in (long + short))\n",
    "    portfolio = portfolio[['permno', 'comnam', 'date']]\n",
    "\n",
    "    return portfolio \n",
    "\n",
    "# get return in next month\n",
    "def get_return(portfolio: pd.DataFrame, next_month: pd.DataFrame):\n",
    "    portfolio = pd.merge(portfolio, next_month[['permno', 'ret', 'dlret']], on='permno', how='left')\n",
    "\n",
    "    portfolio['ret'] = pd.to_numeric(portfolio['ret'], errors='coerce')\n",
    "    portfolio['next_month_return'] = portfolio['ret'].fillna(portfolio['dlret']).fillna(0)\n",
    "\n",
    "    return portfolio['next_month_return'].mean()"
   ]
  },
  {
   "cell_type": "code",
   "execution_count": null,
   "id": "44eeb24a",
   "metadata": {},
   "outputs": [],
   "source": [
    "# Generate time series for port_small and port_large\n",
    "portfolio_small_returns = []\n",
    "portfolio_large_returns = []\n",
    "quantile_returns = {q: [] for q in range(10)}\n",
    "\n",
    "for month in months[:-1]:\n",
    "    next_month = month + 1\n",
    "\n",
    "    month_data = df[df['month_year'] == month].copy()\n",
    "    next_month_data = df[df['month_year'] == next_month].copy()\n",
    "\n",
    "    month_data = assign_quantiles(month_data, \"kurtosis\")\n",
    "\n",
    "    portfolio_small = create_portfolio(month_data, [9], [0])\n",
    "    portfolio_large = create_portfolio(month_data, [9, 8], [0, 1])\n",
    "\n",
    "    # get quantile and portfolio returns\n",
    "    for q in range(10):\n",
    "        quantile_data = month_data[month_data['quantile'] == q]\n",
    "        quantile_returns[q].append(\n",
    "            (month, get_return(quantile_data[['permno', 'comnam', 'date']], next_month_data))\n",
    "        )\n",
    "\n",
    "    portfolio_small_returns.append((month, get_return(portfolio_small, next_month_data)))\n",
    "    portfolio_large_returns.append((month, get_return(portfolio_large, next_month_data)))\n",
    "\n",
    "# Create time series\n",
    "port_small_series = pd.Series(\n",
    "    dict(portfolio_small_returns)\n",
    ").sort_index()\n",
    "\n",
    "port_large_series = pd.Series(\n",
    "    dict(portfolio_large_returns)\n",
    ").sort_index()\n",
    "\n",
    "quantile_series = {\n",
    "    q: pd.Series(dict(returns)).sort_index() for q, returns in quantile_returns.items()\n",
    "}\n"
   ]
  },
  {
   "cell_type": "code",
   "execution_count": null,
   "id": "43d1ac2e",
   "metadata": {},
   "outputs": [],
   "source": [
    "# Convert PeriodIndex to datetime for plotting\n",
    "plt.figure(figsize=(12, 6))\n",
    "plt.plot(port_small_series.index.to_timestamp(), port_small_series.values, label=\"Portfolio Small (Q10 - Q1)\", color=\"blue\")\n",
    "plt.plot(port_large_series.index.to_timestamp(), port_large_series.values, label=\"Portfolio Large (Q10, Q9 - Q1, Q2)\", color=\"green\")\n",
    "plt.xlabel(\"Date\")\n",
    "plt.ylabel(\"Return\")\n",
    "plt.title(\"Portfolio Returns Over Time\")\n",
    "plt.legend()\n",
    "plt.grid()\n",
    "plt.show()\n",
    "\n",
    "# Plot quantile_series\n",
    "plt.figure(figsize=(12, 6))\n",
    "for q, series in quantile_series.items():\n",
    "    plt.plot(series.index.to_timestamp(), series.values, label=f\"Quantile {q+1}\")\n",
    "plt.xlabel(\"Date\")\n",
    "plt.ylabel(\"Return\")\n",
    "plt.title(\"Quantile Returns Over Time\")\n",
    "plt.legend(loc=\"upper left\", fontsize=\"small\", ncol=2)\n",
    "plt.grid()\n",
    "plt.show()"
   ]
  },
  {
   "cell_type": "markdown",
   "id": "79dc6960",
   "metadata": {},
   "source": [
    "#### Portfolio evaluation"
   ]
  },
  {
   "cell_type": "code",
   "execution_count": null,
   "id": "ef177c43",
   "metadata": {},
   "outputs": [],
   "source": [
    "def print_alpha(model, desc):\n",
    "    print(f\"{desc} - Alpha: {model.params['const']:.4f}, t-stat: {model.tvalues['const']:.4f}\")\n",
    "\n",
    "# define famma french\n",
    "def fama_french(data: pd.Series):\n",
    "    # Load Fama-French factors\n",
    "    factors = pd.read_csv(FAMA_FRENCH_FACTORS)\n",
    "\n",
    "    data = data.reset_index()  \n",
    "    data.columns = ['month_year', 'ret']  \n",
    "\n",
    "    factors['month_year'] = pd.to_datetime(factors['Date'], format='%Y%m').dt.to_period('M')\n",
    "\n",
    "    # match date with factors\n",
    "    factors = factors[factors['month_year'].isin(data['month_year'])]\n",
    "    factors = factors[['month_year', 'MKT_RF', 'SMB', 'HML', 'RF']]\n",
    "\n",
    "    # Adjust scale of factors\n",
    "    factors['MKT_RF'] = factors['MKT_RF'] / 100\n",
    "    factors['SMB'] = factors['SMB'] / 100\n",
    "    factors['HML'] = factors['HML'] / 100\n",
    "    factors['RF'] = factors['RF'] / 100\n",
    "\n",
    "    # Merge Fama-French factors with stock data\n",
    "    regression_in = pd.merge(data, factors, on='month_year', how='left')\n",
    "\n",
    "    # Compute excess return\n",
    "    regression_in['excess_return'] = regression_in['ret'] - regression_in['RF']\n",
    "\n",
    "    # Prepare regression variables\n",
    "    X = regression_in[['MKT_RF', 'SMB', 'HML']]\n",
    "    X = X.apply(pd.to_numeric, errors='raise')\n",
    "    X = sm.add_constant(X, has_constant='add')\n",
    "\n",
    "    y = pd.to_numeric(regression_in['excess_return'], errors='raise')\n",
    "\n",
    "    # Run regression\n",
    "    model = sm.OLS(y, X).fit()\n",
    "    return model"
   ]
  },
  {
   "cell_type": "code",
   "execution_count": null,
   "id": "025eeab3",
   "metadata": {},
   "outputs": [],
   "source": [
    "# find alphas for portfolios\n",
    "print_alpha(fama_french(port_small_series), f\"Portfolio small (long Q10, short Q1)\")\n",
    "print_alpha(fama_french(port_large_series), f\"Portfolio large (long Q10, Q9, short Q1, Q2)\")\n",
    "\n",
    "# find alphas for quantiles\n",
    "for q in range(10):\n",
    "    model = fama_french(quantile_series[q])\n",
    "    print_alpha(model, f\"Quantile {q+1}\")"
   ]
  },
  {
   "cell_type": "markdown",
   "id": "b57b847a",
   "metadata": {},
   "source": [
    "##### Misc"
   ]
  },
  {
   "cell_type": "code",
   "execution_count": null,
   "id": "e6237d80",
   "metadata": {},
   "outputs": [],
   "source": [
    "# generate portfolio for next month (from now)\n",
    "month = months[-1]\n",
    "month_data = df[df['month_year'] == month]\n",
    "\n",
    "portfolio_small = create_portfolio(month_data, [9], [0])\n",
    "portfolio_large = create_portfolio(month_data, [9,8], [0,1])\n",
    "\n",
    "print(\"Portfolio Small:\", portfolio_small.head())\n",
    "print(\"Portfolio Large:\", portfolio_large.head())"
   ]
  }
 ],
 "metadata": {
  "kernelspec": {
   "display_name": "venv (3.12.3)",
   "language": "python",
   "name": "python3"
  },
  "language_info": {
   "codemirror_mode": {
    "name": "ipython",
    "version": 3
   },
   "file_extension": ".py",
   "mimetype": "text/x-python",
   "name": "python",
   "nbconvert_exporter": "python",
   "pygments_lexer": "ipython3",
   "version": "3.12.3"
  }
 },
 "nbformat": 4,
 "nbformat_minor": 5
}
